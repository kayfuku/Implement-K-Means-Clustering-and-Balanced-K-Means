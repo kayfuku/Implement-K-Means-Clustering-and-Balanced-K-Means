{
 "cells": [
  {
   "cell_type": "code",
   "execution_count": 1,
   "metadata": {},
   "outputs": [],
   "source": [
    "import numpy as np\n",
    "import pandas as pd\n",
    "import matplotlib.pyplot as plt\n",
    "import seaborn as sns\n",
    "%matplotlib inline"
   ]
  },
  {
   "cell_type": "code",
   "execution_count": 2,
   "metadata": {},
   "outputs": [
    {
     "name": "stdout",
     "output_type": "stream",
     "text": [
      "<class 'numpy.ndarray'>\n",
      "<class 'numpy.ndarray'>\n",
      "<class 'numpy.float64'>\n"
     ]
    },
    {
     "name": "stderr",
     "output_type": "stream",
     "text": [
      "/Users/kei/anaconda3/lib/python3.7/site-packages/sklearn/utils/deprecation.py:144: FutureWarning: The sklearn.datasets.samples_generator module is  deprecated in version 0.22 and will be removed in version 0.24. The corresponding classes / functions should instead be imported from sklearn.datasets. Anything that cannot be imported from sklearn.datasets is now part of the private API.\n",
      "  warnings.warn(message, FutureWarning)\n"
     ]
    }
   ],
   "source": [
    "from sklearn.datasets.samples_generator import make_blobs\n",
    "X, cluster_assignments = make_blobs(n_samples=200, centers=4, cluster_std=0.60, random_state=0)\n",
    "print(type(X))\n",
    "print(type(X[0]))\n",
    "print(type(X[0, 1]))"
   ]
  },
  {
   "cell_type": "code",
   "execution_count": 3,
   "metadata": {
    "scrolled": true
   },
   "outputs": [
    {
     "name": "stdout",
     "output_type": "stream",
     "text": [
      "3\n"
     ]
    }
   ],
   "source": [
    "import kmeans as km\n",
    "\n",
    "# Check if it works. \n",
    "cl = km.KMeans(k=3)\n",
    "print(cl.n_clusters)"
   ]
  },
  {
   "cell_type": "code",
   "execution_count": 4,
   "metadata": {},
   "outputs": [],
   "source": [
    "def get_labels_and_inertia(X, centers, distances): \n",
    "    n_samples = X.shape[0]\n",
    "    n_clusters = centers.shape[0]\n",
    "    labels = np.full(n_samples, -1, np.int32)\n",
    "    inertia = 0.0\n",
    "\n",
    "    # Calculate distance between each data point and each centroid. \n",
    "    for sample_idx in range(n_samples):\n",
    "        min_dist = -1\n",
    "        for center_idx in range(n_clusters):\n",
    "            dist = 0.0\n",
    "            \n",
    "            # Get distance between the data point and the centroid. \n",
    "            # ||a - b||^2 = ||a||^2 + ||b||^2 -2 <a, b>\n",
    "            dist += np.dot(X[sample_idx], centers[center_idx])\n",
    "            dist *= -2\n",
    "            dist += np.dot(X[sample_idx], X[sample_idx])\n",
    "            dist += np.dot(centers[center_idx], centers[center_idx])\n",
    "\n",
    "            # Get minimum distance. \n",
    "            if min_dist == -1 or dist < min_dist:\n",
    "                min_dist = dist\n",
    "                # Get the cluster assigned to this datapoint. \n",
    "                labels[sample_idx] = center_idx\n",
    "                distances[sample_idx] = dist\n",
    "                \n",
    "        # Add to inertia. \n",
    "        inertia += min_dist\n",
    "\n",
    "    return labels, inertia"
   ]
  },
  {
   "cell_type": "code",
   "execution_count": 5,
   "metadata": {},
   "outputs": [],
   "source": [
    "k = 3\n",
    "n_samples, n_features = X.shape"
   ]
  },
  {
   "cell_type": "code",
   "execution_count": 6,
   "metadata": {},
   "outputs": [],
   "source": [
    "def init_centers(X): \n",
    "        shuffled_indices = np.random.permutation(len(X))\n",
    "        center_indices = shuffled_indices[:k]\n",
    "        centers = np.zeros(shape=(k, X.shape[1]), dtype=X.dtype)\n",
    "        for i, idx in enumerate(center_indices): \n",
    "            print(i, idx)\n",
    "            centers[i] = X[idx]\n",
    "            \n",
    "        return centers"
   ]
  },
  {
   "cell_type": "code",
   "execution_count": 7,
   "metadata": {},
   "outputs": [
    {
     "name": "stdout",
     "output_type": "stream",
     "text": [
      "0 83\n",
      "1 181\n",
      "2 11\n"
     ]
    },
    {
     "data": {
      "text/plain": [
       "array([[-0.14455399,  2.28187277],\n",
       "       [ 2.03169783,  0.19680756],\n",
       "       [ 2.43040639, -0.06357093]])"
      ]
     },
     "execution_count": 7,
     "metadata": {},
     "output_type": "execute_result"
    }
   ],
   "source": [
    "from numpy.random import rand\n",
    "\n",
    "\n",
    "# Get 2d array with random values. \n",
    "# centers = a = np.random.uniform(0, 1, (k, n_features))\n",
    "centers = init_centers(X)\n",
    "centers"
   ]
  },
  {
   "cell_type": "code",
   "execution_count": 8,
   "metadata": {
    "scrolled": true
   },
   "outputs": [
    {
     "name": "stdout",
     "output_type": "stream",
     "text": [
      "float64\n"
     ]
    },
    {
     "data": {
      "text/plain": [
       "array([0., 0., 0., 0., 0., 0., 0., 0., 0., 0., 0., 0., 0., 0., 0., 0., 0.,\n",
       "       0., 0., 0., 0., 0., 0., 0., 0., 0., 0., 0., 0., 0., 0., 0., 0., 0.,\n",
       "       0., 0., 0., 0., 0., 0., 0., 0., 0., 0., 0., 0., 0., 0., 0., 0., 0.,\n",
       "       0., 0., 0., 0., 0., 0., 0., 0., 0., 0., 0., 0., 0., 0., 0., 0., 0.,\n",
       "       0., 0., 0., 0., 0., 0., 0., 0., 0., 0., 0., 0., 0., 0., 0., 0., 0.,\n",
       "       0., 0., 0., 0., 0., 0., 0., 0., 0., 0., 0., 0., 0., 0., 0., 0., 0.,\n",
       "       0., 0., 0., 0., 0., 0., 0., 0., 0., 0., 0., 0., 0., 0., 0., 0., 0.,\n",
       "       0., 0., 0., 0., 0., 0., 0., 0., 0., 0., 0., 0., 0., 0., 0., 0., 0.,\n",
       "       0., 0., 0., 0., 0., 0., 0., 0., 0., 0., 0., 0., 0., 0., 0., 0., 0.,\n",
       "       0., 0., 0., 0., 0., 0., 0., 0., 0., 0., 0., 0., 0., 0., 0., 0., 0.,\n",
       "       0., 0., 0., 0., 0., 0., 0., 0., 0., 0., 0., 0., 0., 0., 0., 0., 0.,\n",
       "       0., 0., 0., 0., 0., 0., 0., 0., 0., 0., 0., 0., 0.])"
      ]
     },
     "execution_count": 8,
     "metadata": {},
     "output_type": "execute_result"
    }
   ],
   "source": [
    "distances = np.zeros(shape=(X.shape[0],), dtype=X.dtype)\n",
    "print(X.dtype)\n",
    "distances"
   ]
  },
  {
   "cell_type": "code",
   "execution_count": 9,
   "metadata": {},
   "outputs": [
    {
     "name": "stdout",
     "output_type": "stream",
     "text": [
      "<class 'numpy.ndarray'>\n",
      "labels: [1 0 0 0 1 0 0 0 0 0 0 2 0 0 1 0 0 0 0 0 0 0 1 0 1 1 0 1 1 0 0 0 0 1 0 0 0\n",
      " 0 0 0 0 0 0 0 1 0 0 0 0 0 0 0 0 0 0 0 0 1 0 1 0 0 1 0 0 0 1 0 0 0 1 1 0 0\n",
      " 0 0 0 0 2 2 0 0 1 0 0 0 0 1 0 0 0 0 0 0 0 1 0 0 0 0 0 1 2 0 0 0 0 1 1 0 0\n",
      " 0 0 1 1 0 0 0 0 0 0 0 0 2 0 0 0 0 1 0 0 1 0 0 0 0 0 0 1 0 1 0 1 1 0 2 0 1\n",
      " 0 0 0 0 0 0 1 0 0 0 0 1 0 1 1 0 0 0 0 1 2 0 1 0 0 0 0 0 0 0 0 0 0 1 0 1 0\n",
      " 0 0 0 0 0 1 1 0 0 0 0 0 0 0 1]\n",
      "inertia: 2115.683203086229\n"
     ]
    }
   ],
   "source": [
    "labels, inertia = get_labels_and_inertia(X, centers, distances)\n",
    "print(type(labels))\n",
    "print('labels:', labels)\n",
    "print('inertia:', inertia)"
   ]
  },
  {
   "cell_type": "code",
   "execution_count": 10,
   "metadata": {},
   "outputs": [
    {
     "data": {
      "text/plain": [
       "array([ 2.28108523,  0.95595575,  4.67762807, 30.44146857,  0.22119079,\n",
       "       10.83976029,  2.94365009,  1.04054021, 10.98180326,  6.83531017])"
      ]
     },
     "execution_count": 10,
     "metadata": {},
     "output_type": "execute_result"
    }
   ],
   "source": [
    "distances[:10]"
   ]
  },
  {
   "cell_type": "code",
   "execution_count": 11,
   "metadata": {},
   "outputs": [],
   "source": [
    "def move_to_mean(X, labels): \n",
    "    cluster_to_assigned_points = dict()\n",
    "    for i, cluster in enumerate(labels): \n",
    "        cluster_to_assigned_points.setdefault(cluster, []).append(X[i])\n",
    "        \n",
    "    cluster_to_mean_point =  np.zeros(shape=(len(cluster_to_assigned_points), X.shape[1]), dtype=X.dtype)\n",
    "    for k, v in cluster_to_assigned_points.items():\n",
    "        cluster_to_mean_point[k] = pd.Series(v).mean()\n",
    "        \n",
    "    return cluster_to_mean_point"
   ]
  },
  {
   "cell_type": "code",
   "execution_count": 12,
   "metadata": {},
   "outputs": [
    {
     "data": {
      "text/plain": [
       "array([[-0.67342087,  4.97845707],\n",
       "       [ 1.94930666,  0.9867111 ],\n",
       "       [ 2.88350488,  0.74655634]])"
      ]
     },
     "execution_count": 12,
     "metadata": {},
     "output_type": "execute_result"
    }
   ],
   "source": [
    "ret = move_to_mean(X, labels)\n",
    "ret"
   ]
  },
  {
   "cell_type": "code",
   "execution_count": 13,
   "metadata": {},
   "outputs": [],
   "source": [
    "row = [1, 2, 3]"
   ]
  },
  {
   "cell_type": "code",
   "execution_count": 14,
   "metadata": {},
   "outputs": [
    {
     "data": {
      "text/plain": [
       "[1, 2, 3, 1, 2, 3, 1, 2, 3]"
      ]
     },
     "execution_count": 14,
     "metadata": {},
     "output_type": "execute_result"
    }
   ],
   "source": [
    "row * 3"
   ]
  },
  {
   "cell_type": "code",
   "execution_count": 15,
   "metadata": {},
   "outputs": [],
   "source": [
    "r = np.array([1, 2, 3])"
   ]
  },
  {
   "cell_type": "code",
   "execution_count": 16,
   "metadata": {},
   "outputs": [
    {
     "data": {
      "text/plain": [
       "array([3, 6, 9])"
      ]
     },
     "execution_count": 16,
     "metadata": {},
     "output_type": "execute_result"
    }
   ],
   "source": [
    "r * 3"
   ]
  },
  {
   "cell_type": "code",
   "execution_count": 17,
   "metadata": {},
   "outputs": [
    {
     "data": {
      "text/plain": [
       "[1, 2, 3, 1, 2, 3, 1, 2, 3]"
      ]
     },
     "execution_count": 17,
     "metadata": {},
     "output_type": "execute_result"
    }
   ],
   "source": [
    "n = 10\n",
    "k = 3 \n",
    "row = row * int(n / k) \n",
    "row"
   ]
  },
  {
   "cell_type": "code",
   "execution_count": 18,
   "metadata": {},
   "outputs": [
    {
     "data": {
      "text/plain": [
       "[1, 2, 3, 1, 2, 3, 1, 2, 3, 1]"
      ]
     },
     "execution_count": 18,
     "metadata": {},
     "output_type": "execute_result"
    }
   ],
   "source": [
    "row.extend([row[i] for i in range(n % k)])\n",
    "row"
   ]
  },
  {
   "cell_type": "code",
   "execution_count": 19,
   "metadata": {},
   "outputs": [
    {
     "data": {
      "text/plain": [
       "array([[1., 2., 3., 1., 2., 3., 1., 2., 3., 1.],\n",
       "       [1., 2., 3., 1., 2., 3., 1., 2., 3., 1.],\n",
       "       [1., 2., 3., 1., 2., 3., 1., 2., 3., 1.],\n",
       "       [1., 2., 3., 1., 2., 3., 1., 2., 3., 1.],\n",
       "       [1., 2., 3., 1., 2., 3., 1., 2., 3., 1.],\n",
       "       [1., 2., 3., 1., 2., 3., 1., 2., 3., 1.],\n",
       "       [1., 2., 3., 1., 2., 3., 1., 2., 3., 1.],\n",
       "       [1., 2., 3., 1., 2., 3., 1., 2., 3., 1.],\n",
       "       [1., 2., 3., 1., 2., 3., 1., 2., 3., 1.],\n",
       "       [1., 2., 3., 1., 2., 3., 1., 2., 3., 1.]])"
      ]
     },
     "execution_count": 19,
     "metadata": {},
     "output_type": "execute_result"
    }
   ],
   "source": [
    "cost_matrix = np.zeros(shape=(10, 10), dtype=X.dtype)\n",
    "for i in range(10): \n",
    "    cost_matrix[i] = np.array(row)\n",
    "\n",
    "cost_matrix"
   ]
  },
  {
   "cell_type": "code",
   "execution_count": 20,
   "metadata": {},
   "outputs": [
    {
     "data": {
      "text/plain": [
       "3.0"
      ]
     },
     "execution_count": 20,
     "metadata": {},
     "output_type": "execute_result"
    }
   ],
   "source": [
    "cost_matrix[5][5]"
   ]
  },
  {
   "cell_type": "code",
   "execution_count": null,
   "metadata": {},
   "outputs": [],
   "source": []
  },
  {
   "cell_type": "code",
   "execution_count": null,
   "metadata": {},
   "outputs": [],
   "source": []
  },
  {
   "cell_type": "code",
   "execution_count": null,
   "metadata": {},
   "outputs": [],
   "source": []
  },
  {
   "cell_type": "code",
   "execution_count": null,
   "metadata": {},
   "outputs": [],
   "source": []
  }
 ],
 "metadata": {
  "kernelspec": {
   "display_name": "Python 3",
   "language": "python",
   "name": "python3"
  },
  "language_info": {
   "codemirror_mode": {
    "name": "ipython",
    "version": 3
   },
   "file_extension": ".py",
   "mimetype": "text/x-python",
   "name": "python",
   "nbconvert_exporter": "python",
   "pygments_lexer": "ipython3",
   "version": "3.7.6"
  }
 },
 "nbformat": 4,
 "nbformat_minor": 2
}
