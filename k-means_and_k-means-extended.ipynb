{
 "cells": [
  {
   "cell_type": "code",
   "execution_count": 1,
   "metadata": {},
   "outputs": [],
   "source": [
    "import numpy as np\n",
    "import pandas as pd\n",
    "import matplotlib.pyplot as plt\n",
    "import seaborn as sns\n",
    "%matplotlib inline"
   ]
  },
  {
   "cell_type": "code",
   "execution_count": 2,
   "metadata": {},
   "outputs": [],
   "source": [
    "import random\n",
    "RS = 2020\n",
    "random.seed(RS)\n",
    "np.random.seed(RS)"
   ]
  },
  {
   "cell_type": "code",
   "execution_count": 4,
   "metadata": {
    "scrolled": true
   },
   "outputs": [
    {
     "name": "stdout",
     "output_type": "stream",
     "text": [
      "4\n"
     ]
    }
   ],
   "source": [
    "# Check how to import another script. \n",
    "from kmeans import KMeans\n",
    "\n",
    "# Check if it works. \n",
    "cl = KMeans(4)\n",
    "print(cl.n_clusters)"
   ]
  },
  {
   "cell_type": "code",
   "execution_count": 5,
   "metadata": {},
   "outputs": [
    {
     "name": "stdout",
     "output_type": "stream",
     "text": [
      "(200, 2)\n"
     ]
    },
    {
     "name": "stderr",
     "output_type": "stream",
     "text": [
      "/Users/kei/anaconda3/lib/python3.7/site-packages/sklearn/utils/deprecation.py:144: FutureWarning: The sklearn.datasets.samples_generator module is  deprecated in version 0.22 and will be removed in version 0.24. The corresponding classes / functions should instead be imported from sklearn.datasets. Anything that cannot be imported from sklearn.datasets is now part of the private API.\n",
      "  warnings.warn(message, FutureWarning)\n"
     ]
    },
    {
     "data": {
      "text/plain": [
       "array([[ 2.23421043,  1.6934952 ],\n",
       "       [-1.05510724,  2.6380308 ],\n",
       "       [ 1.08272576,  4.06271877],\n",
       "       [-2.60159431,  7.22195591],\n",
       "       [ 1.60841463,  0.40180054],\n",
       "       [ 0.98257009,  5.37530962],\n",
       "       [-1.71343572,  2.97632236],\n",
       "       [ 0.44359863,  3.11530945],\n",
       "       [ 1.71444449,  5.02521524],\n",
       "       [ 1.41372442,  4.38117707]])"
      ]
     },
     "execution_count": 5,
     "metadata": {},
     "output_type": "execute_result"
    }
   ],
   "source": [
    "from sklearn.datasets.samples_generator import make_blobs\n",
    "X, cluster_assignments = make_blobs(n_samples=200, centers=4, cluster_std=0.60, random_state=0)\n",
    "print(X.shape)\n",
    "X[:10]"
   ]
  },
  {
   "cell_type": "code",
   "execution_count": 6,
   "metadata": {
    "scrolled": false
   },
   "outputs": [
    {
     "data": {
      "text/plain": [
       "<matplotlib.collections.PathCollection at 0x1a1b788110>"
      ]
     },
     "execution_count": 6,
     "metadata": {},
     "output_type": "execute_result"
    },
    {
     "data": {
      "image/png": "[encoded data removed]",
      "text/plain": [
       "<Figure size 432x288 with 1 Axes>"
      ]
     },
     "metadata": {
      "needs_background": "light"
     },
     "output_type": "display_data"
    }
   ],
   "source": [
    "# Check what the data looks like. \n",
    "plt.scatter(X[:,0], X[:,1])"
   ]
  },
  {
   "cell_type": "code",
   "execution_count": 7,
   "metadata": {},
   "outputs": [
    {
     "data": {
      "text/plain": [
       "array([1, 2, 0, 3, 1, 0, 2, 0, 0, 0])"
      ]
     },
     "execution_count": 7,
     "metadata": {},
     "output_type": "execute_result"
    }
   ],
   "source": [
    "cluster_assignments[:10]"
   ]
  },
  {
   "cell_type": "code",
   "execution_count": 8,
   "metadata": {},
   "outputs": [
    {
     "data": {
      "text/plain": [
       "Text(0.5, 1.0, 'labels')"
      ]
     },
     "execution_count": 8,
     "metadata": {},
     "output_type": "execute_result"
    },
    {
     "data": {
      "image/png": "[encoded data removed]",
      "text/plain": [
       "<Figure size 432x288 with 1 Axes>"
      ]
     },
     "metadata": {
      "needs_background": "light"
     },
     "output_type": "display_data"
    }
   ],
   "source": [
    "# Check the labels. \n",
    "\n",
    "merged_data = pd.concat([pd.DataFrame(X[:,0]), pd.DataFrame(X[:,1]), pd.DataFrame(cluster_assignments)], axis=1)\n",
    "merged_data.columns = ['feature1','feature2','cluster']\n",
    "\n",
    "colors = ['blue','red','green','orange']\n",
    "ax = None\n",
    "for i, data in merged_data.groupby('cluster'):\n",
    "    ax = data.plot.scatter(x='feature1', y='feature2', \n",
    "                           color=colors[i], label=f'cluster{i}', ax=ax)\n",
    "# plt.scatter(kmeans.cluster_centers_[:,0], kmeans.cluster_centers_[:,1], color='black')\n",
    "plt.xlabel('feature 1')\n",
    "plt.ylabel('feature 2')\n",
    "plt.title('labels')"
   ]
  },
  {
   "cell_type": "code",
   "execution_count": 9,
   "metadata": {},
   "outputs": [],
   "source": [
    "# Implement k-means clustering. \n",
    "\n",
    "kmeans = KMeans(4)"
   ]
  },
  {
   "cell_type": "code",
   "execution_count": 10,
   "metadata": {},
   "outputs": [
    {
     "name": "stdout",
     "output_type": "stream",
     "text": [
      "Iteration  0, inertia 1401.441\n",
      "center shift 8.880164\n",
      "Iteration  1, inertia 489.173\n",
      "center shift 0.907258\n",
      "Iteration  2, inertia 394.701\n",
      "center shift 2.235583\n",
      "Iteration  3, inertia 195.765\n",
      "center shift 0.986900\n",
      "Iteration  4, inertia 136.368\n",
      "center shift 0.019506\n",
      "Iteration  5, inertia 135.392\n",
      "center shift 0.000000\n",
      "Converged at iteration 5: center shift 0.000000\n"
     ]
    },
    {
     "data": {
      "text/plain": [
       "[3, 2, 0, 1, 3, 0, 2, 0, 0, 0]"
      ]
     },
     "execution_count": 10,
     "metadata": {},
     "output_type": "execute_result"
    }
   ],
   "source": [
    "# Create clusters. \n",
    "y_pred, centroids = kmeans.fit(X)\n",
    "y_pred[:10]"
   ]
  },
  {
   "cell_type": "code",
   "execution_count": 11,
   "metadata": {},
   "outputs": [
    {
     "data": {
      "text/plain": [
       "[[0.9079396154722766, 4.3571379124853165],\n",
       " [-1.348427149431572, 7.720965481677157],\n",
       " [-1.624014149548755, 2.915962902631502],\n",
       " [2.071878923404346, 0.9742292639681068]]"
      ]
     },
     "execution_count": 11,
     "metadata": {},
     "output_type": "execute_result"
    }
   ],
   "source": [
    "centroids"
   ]
  },
  {
   "cell_type": "code",
   "execution_count": 12,
   "metadata": {
    "scrolled": false
   },
   "outputs": [
    {
     "data": {
      "text/plain": [
       "Text(0.5, 1.0, 'predicted clusters')"
      ]
     },
     "execution_count": 12,
     "metadata": {},
     "output_type": "execute_result"
    },
    {
     "data": {
      "image/png": "[encoded data removed]",
      "text/plain": [
       "<Figure size 432x288 with 1 Axes>"
      ]
     },
     "metadata": {
      "needs_background": "light"
     },
     "output_type": "display_data"
    }
   ],
   "source": [
    "# Evaluate the model. \n",
    "\n",
    "merged_data = pd.concat([pd.DataFrame(X[:,0]), pd.DataFrame(X[:,1]), pd.DataFrame(y_pred)], axis=1)\n",
    "merged_data.columns = ['feature1','feature2','predicted cluster']\n",
    "\n",
    "colors = ['blue','red','green','orange']\n",
    "ax = None\n",
    "for i, data in merged_data.groupby('predicted cluster'):\n",
    "    ax = data.plot.scatter(x='feature1', y='feature2', \n",
    "                                           color=colors[i], label=f'predicted cluster{i}', ax=ax)\n",
    "\n",
    "# Convert \n",
    "x = []\n",
    "y = []\n",
    "for centroid in centroids:\n",
    "    x.append(centroid[0])\n",
    "    y.append(centroid[1])\n",
    "    \n",
    "# Plot the centroids.\n",
    "plt.scatter(x, y, color='black')\n",
    "\n",
    "plt.xlabel('feature 1')\n",
    "plt.ylabel('feature 2')\n",
    "plt.title('predicted clusters')"
   ]
  },
  {
   "cell_type": "code",
   "execution_count": 13,
   "metadata": {},
   "outputs": [
    {
     "data": {
      "text/plain": [
       "1.0"
      ]
     },
     "execution_count": 13,
     "metadata": {},
     "output_type": "execute_result"
    }
   ],
   "source": [
    "# V measure\n",
    "from sklearn.metrics.cluster import v_measure_score\n",
    "\n",
    "v_measure_score(cluster_assignments, y_pred)"
   ]
  },
  {
   "cell_type": "markdown",
   "metadata": {},
   "source": [
    "• The hypotheses are correct.  "
   ]
  },
  {
   "cell_type": "code",
   "execution_count": 14,
   "metadata": {},
   "outputs": [],
   "source": [
    "# Save the output. \n",
    "file1 = open(\"output/output.txt\",\"w\") # \"w\": write mode \n",
    "file1.write(\"predicted clusters: \\n\") \n",
    "file1.write(str(y_pred) + \"\\n\")\n",
    "file1.write(\"centroids: \\n\") \n",
    "file1.write(str(centroids) + \"\\n\")\n",
    "file1.close() "
   ]
  },
  {
   "cell_type": "code",
   "execution_count": 15,
   "metadata": {
    "scrolled": true
   },
   "outputs": [
    {
     "data": {
      "text/plain": [
       "6"
      ]
     },
     "execution_count": 15,
     "metadata": {},
     "output_type": "execute_result"
    }
   ],
   "source": [
    "#############\n",
    "# Extend k-Means \n",
    "\n",
    "# Check if things work. \n",
    "cl2 = KMeans(k=6)\n",
    "cl2.n_clusters"
   ]
  },
  {
   "cell_type": "code",
   "execution_count": 16,
   "metadata": {
    "scrolled": true
   },
   "outputs": [
    {
     "name": "stdout",
     "output_type": "stream",
     "text": [
      "Iteration  0, inertia 457.138\n",
      "center shift 2.385234\n",
      "Iteration  1, inertia 247.587\n",
      "center shift 1.494853\n",
      "Iteration  2, inertia 136.015\n",
      "center shift 0.346412\n",
      "Iteration  3, inertia 115.254\n",
      "center shift 0.026614\n",
      "Iteration  4, inertia 113.809\n",
      "center shift 0.022977\n",
      "Iteration  5, inertia 113.245\n",
      "center shift 0.011732\n",
      "Iteration  6, inertia 112.978\n",
      "center shift 0.001944\n",
      "Iteration  7, inertia 112.940\n",
      "center shift 0.000000\n",
      "Converged at iteration 7: center shift 0.000000\n"
     ]
    }
   ],
   "source": [
    "# Predict. (balanced=False)\n",
    "y_pred, centroids = cl2.fit_extended(X, False)"
   ]
  },
  {
   "cell_type": "code",
   "execution_count": 17,
   "metadata": {
    "scrolled": true
   },
   "outputs": [
    {
     "name": "stdout",
     "output_type": "stream",
     "text": [
      "0    31\n",
      "1    16\n",
      "2    19\n",
      "3    34\n",
      "4    50\n",
      "5    50\n",
      "Name: cluster, dtype: int64\n"
     ]
    },
    {
     "data": {
      "text/plain": [
       "Text(0, 0.5, 'num of instances')"
      ]
     },
     "execution_count": 17,
     "metadata": {},
     "output_type": "execute_result"
    },
    {
     "data": {
      "image/png": "[encoded data removed]",
      "text/plain": [
       "<Figure size 432x288 with 1 Axes>"
      ]
     },
     "metadata": {
      "needs_background": "light"
     },
     "output_type": "display_data"
    }
   ],
   "source": [
    "# Count the number of memebers in each cluster. \n",
    "labels = pd.Series(y_pred, name='cluster')\n",
    "print(labels.value_counts(sort=False))\n",
    "\n",
    "ax = labels.value_counts(sort=False).plot(kind='bar')\n",
    "ax.set_xlabel('cluster')\n",
    "ax.set_ylabel('num of instances')"
   ]
  },
  {
   "cell_type": "code",
   "execution_count": 18,
   "metadata": {},
   "outputs": [
    {
     "name": "stdout",
     "output_type": "stream",
     "text": [
      "Iteration  0, inertia 0.000\n",
      "center shift 11.844341\n",
      "Iteration  1, inertia 0.000\n",
      "center shift 0.381295\n",
      "Iteration  2, inertia 0.000\n",
      "center shift 0.511988\n",
      "Iteration  3, inertia 0.000\n",
      "center shift 0.381031\n",
      "Iteration  4, inertia 0.000\n",
      "center shift 0.056740\n",
      "Iteration  5, inertia 0.000\n",
      "center shift 0.001385\n",
      "Iteration  6, inertia 0.000\n",
      "center shift 0.000856\n",
      "Iteration  7, inertia 0.000\n",
      "center shift 0.017053\n",
      "Iteration  8, inertia 0.000\n",
      "center shift 0.000000\n",
      "Converged at iteration 8: center shift 0.000000\n"
     ]
    }
   ],
   "source": [
    "# Predict. (balanced=True)\n",
    "y_pred, centroids = cl2.fit_extended(X, True)"
   ]
  },
  {
   "cell_type": "code",
   "execution_count": 19,
   "metadata": {},
   "outputs": [
    {
     "name": "stdout",
     "output_type": "stream",
     "text": [
      "0    34\n",
      "1    34\n",
      "2    33\n",
      "3    33\n",
      "4    33\n",
      "5    33\n",
      "Name: cluster, dtype: int64\n"
     ]
    },
    {
     "data": {
      "text/plain": [
       "Text(0, 0.5, 'num of instances')"
      ]
     },
     "execution_count": 19,
     "metadata": {},
     "output_type": "execute_result"
    },
    {
     "data": {
      "image/png": "[encoded data removed]",
      "text/plain": [
       "<Figure size 432x288 with 1 Axes>"
      ]
     },
     "metadata": {
      "needs_background": "light"
     },
     "output_type": "display_data"
    }
   ],
   "source": [
    "# Count the number of memebers in each cluster. \n",
    "labels = pd.Series(y_pred, name='cluster')\n",
    "print(labels.value_counts(sort=False))\n",
    "\n",
    "ax = labels.value_counts(sort=False).plot(kind='bar')\n",
    "ax.set_xlabel('cluster')\n",
    "ax.set_ylabel('num of instances')"
   ]
  },
  {
   "cell_type": "code",
   "execution_count": 20,
   "metadata": {},
   "outputs": [],
   "source": [
    "# Save the output. \n",
    "file1 = open(\"output/extended_output.txt\",\"w\") # \"w\": write mode \n",
    "file1.write(\"predicted clusters: \\n\") \n",
    "file1.write(str(y_pred) + \"\\n\")\n",
    "file1.write(\"centroids: \\n\") \n",
    "file1.write(str(centroids) + \"\\n\")\n",
    "file1.close() "
   ]
  },
  {
   "cell_type": "code",
   "execution_count": null,
   "metadata": {},
   "outputs": [],
   "source": []
  },
  {
   "cell_type": "code",
   "execution_count": null,
   "metadata": {},
   "outputs": [],
   "source": []
  },
  {
   "cell_type": "code",
   "execution_count": null,
   "metadata": {},
   "outputs": [],
   "source": []
  },
  {
   "cell_type": "code",
   "execution_count": null,
   "metadata": {},
   "outputs": [],
   "source": []
  },
  {
   "cell_type": "code",
   "execution_count": null,
   "metadata": {},
   "outputs": [],
   "source": []
  },
  {
   "cell_type": "code",
   "execution_count": null,
   "metadata": {},
   "outputs": [],
   "source": []
  },
  {
   "cell_type": "code",
   "execution_count": null,
   "metadata": {},
   "outputs": [],
   "source": []
  },
  {
   "cell_type": "code",
   "execution_count": null,
   "metadata": {},
   "outputs": [],
   "source": []
  },
  {
   "cell_type": "code",
   "execution_count": null,
   "metadata": {},
   "outputs": [],
   "source": []
  },
  {
   "cell_type": "code",
   "execution_count": null,
   "metadata": {},
   "outputs": [],
   "source": []
  },
  {
   "cell_type": "code",
   "execution_count": null,
   "metadata": {},
   "outputs": [],
   "source": []
  },
  {
   "cell_type": "code",
   "execution_count": null,
   "metadata": {},
   "outputs": [],
   "source": []
  },
  {
   "cell_type": "code",
   "execution_count": null,
   "metadata": {},
   "outputs": [],
   "source": []
  },
  {
   "cell_type": "code",
   "execution_count": null,
   "metadata": {},
   "outputs": [],
   "source": []
  }
 ],
 "metadata": {
  "kernelspec": {
   "display_name": "Python 3",
   "language": "python",
   "name": "python3"
  },
  "language_info": {
   "codemirror_mode": {
    "name": "ipython",
    "version": 3
   },
   "file_extension": ".py",
   "mimetype": "text/x-python",
   "name": "python",
   "nbconvert_exporter": "python",
   "pygments_lexer": "ipython3",
   "version": "3.7.6"
  }
 },
 "nbformat": 4,
 "nbformat_minor": 2
}
